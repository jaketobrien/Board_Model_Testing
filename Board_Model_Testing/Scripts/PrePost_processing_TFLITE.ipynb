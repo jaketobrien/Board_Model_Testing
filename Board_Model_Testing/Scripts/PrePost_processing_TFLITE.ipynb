{
 "cells": [
  {
   "cell_type": "markdown",
   "id": "b997ed78-8abc-4786-b526-86e8e4621e96",
   "metadata": {},
   "source": [
    "# Preprocessing Script"
   ]
  },
  {
   "cell_type": "code",
   "execution_count": 1,
   "id": "fd791395-1fc1-4502-a175-c339828edf8d",
   "metadata": {},
   "outputs": [
    {
     "name": "stderr",
     "output_type": "stream",
     "text": [
      "2024-03-04 11:22:53.745167: I tensorflow/core/platform/cpu_feature_guard.cc:193] This TensorFlow binary is optimized with oneAPI Deep Neural Network Library (oneDNN) to use the following CPU instructions in performance-critical operations:  AVX2 FMA\n",
      "To enable them in other operations, rebuild TensorFlow with the appropriate compiler flags.\n"
     ]
    }
   ],
   "source": [
    "import pandas as pd\n",
    "import numpy as np\n",
    "import os\n",
    "import csv\n",
    "# Analysis\n",
    "from sklearn.metrics import confusion_matrix\n",
    "from sklearn.metrics import roc_auc_score, roc_curve, auc\n",
    "from sklearn.metrics import precision_score, recall_score, f1_score, accuracy_score\n",
    "from sklearn.preprocessing import MinMaxScaler\n",
    "import matplotlib.pyplot as plt\n",
    "# Keras\n",
    "import keras"
   ]
  },
  {
   "cell_type": "code",
   "execution_count": 2,
   "id": "0b695cd1-a020-464d-bada-663b49115f9d",
   "metadata": {},
   "outputs": [],
   "source": [
    "import tkinter as tk\n",
    "from tkinter import filedialog"
   ]
  },
  {
   "cell_type": "markdown",
   "id": "27ee3e4e-83a5-4771-946a-553496c90fbe",
   "metadata": {},
   "source": [
    "### Saved Model Definition\n",
    "This cell defines which saved model file will be loaded and the features of the system such as window size and channel trained on"
   ]
  },
  {
   "cell_type": "markdown",
   "id": "0b6bb0fb-aa51-468c-8b4d-b607f3d38d26",
   "metadata": {},
   "source": [
    "## List of Models\n",
    "ARIMA - Coming in V1.2\n",
    "\n",
    "KNN - Coming in V1.2\n",
    "\n",
    "Isolation Forest - Coming in V1.2\n",
    "\n",
    "LSTM Predictor - Coming in V1.2\n",
    "\n",
    "GAN - Coming in V1.2\n",
    "\n",
    "Basic AE - Finished\n",
    "\n",
    "CNN AE - Finished\n",
    "\n",
    "Hybrid AE - Finished\n",
    "\n",
    "LSTM AE - Finished\n",
    "\n",
    "Transformer - Finished\n",
    "\n",
    "VAE - Finished"
   ]
  },
  {
   "cell_type": "code",
   "execution_count": 3,
   "id": "51541ff4-1e70-477f-9a69-27e64d000181",
   "metadata": {},
   "outputs": [
    {
     "name": "stdout",
     "output_type": "stream",
     "text": [
      "Selected file: BasicAE_P-3_150\n"
     ]
    }
   ],
   "source": [
    "def select_file():\n",
    "    root = tk.Tk()\n",
    "    root.withdraw()  # Hide the small tkinter window\n",
    "\n",
    "    current_working_directory = os.getcwd()\n",
    "    folder = current_working_directory + '/Saved_models'\n",
    "    file_path = filedialog.askopenfilename(initialdir=folder)\n",
    "\n",
    "    if file_path:  # Check if a file was selected\n",
    "        # Extract the filename from the full path\n",
    "        filename = os.path.basename(file_path)\n",
    "        return filename\n",
    "    else:\n",
    "        return None  # No file was selected\n",
    "\n",
    "# Call the function and get the filename\n",
    "filename = select_file()\n",
    "filename, extension = os.path.splitext(filename)\n",
    "if filename:\n",
    "    print(\"Selected file:\", filename)\n",
    "else:\n",
    "    print(\"No file was selected.\")\n"
   ]
  },
  {
   "cell_type": "code",
   "execution_count": 4,
   "id": "6a58cc98-f0a9-463f-a315-2847c9fe9d44",
   "metadata": {},
   "outputs": [
    {
     "name": "stdout",
     "output_type": "stream",
     "text": [
      "['BasicAE', 'P-3', '150']\n"
     ]
    }
   ],
   "source": [
    "parts = filename.split('_')\n",
    "print(parts)"
   ]
  },
  {
   "cell_type": "code",
   "execution_count": 5,
   "id": "583995f6-f840-4a04-a529-fa3eb52a7f7a",
   "metadata": {},
   "outputs": [],
   "source": [
    "# Folder\n",
    "model_folder = 'Saved_models/'\n",
    "# Model\n",
    "model_name = parts[0]\n",
    "# Selected Channel\n",
    "filename = parts[1]\n",
    "# Feature Vector size\n",
    "window_size = int(parts[2])"
   ]
  },
  {
   "cell_type": "markdown",
   "id": "d35de97a-ab6c-443e-98eb-2d5883455e9d",
   "metadata": {},
   "source": [
    "### Anomaly definition\n",
    "This cell defines the stride of the window and the percentage of the window containing anomalies for it to be considered anomalous"
   ]
  },
  {
   "cell_type": "code",
   "execution_count": 6,
   "id": "baa665fd-a89a-4857-9a33-80da68aa5c2a",
   "metadata": {},
   "outputs": [],
   "source": [
    "# Number of datapoints to itterate in window generation\n",
    "stride = 1\n",
    "# Anomaly Window Threshold percentage\n",
    "threshold = 0.7"
   ]
  },
  {
   "cell_type": "markdown",
   "id": "4e9c3207-3fde-4e37-8dd0-e467f48ec68f",
   "metadata": {},
   "source": [
    "### Data Path\n",
    "Defines the path to the data file containing train and test data"
   ]
  },
  {
   "cell_type": "code",
   "execution_count": 7,
   "id": "eb32c951-9da1-4cbd-8b39-a7364bbf3f08",
   "metadata": {},
   "outputs": [],
   "source": [
    "path_train = './data/train/' + filename + '.npy'\n",
    "path_test = './data/test/' + filename + '.npy'\n",
    "\n",
    "s1 = os.path.getsize(path_train)\n",
    "s2 = os.path.getsize(path_test)\n",
    "\n",
    "data_train = np.load(path_train)\n",
    "data_test = np.load(path_test)"
   ]
  },
  {
   "cell_type": "markdown",
   "id": "de440f38-e8b9-40c5-95d4-5948ed75a7bf",
   "metadata": {},
   "source": [
    "### Loading Anomaly List\n",
    "References the labeled_anomalies.csv file for where the anomalies are located"
   ]
  },
  {
   "cell_type": "code",
   "execution_count": 8,
   "id": "c05ed396-5c61-4959-b89a-fced51d467e4",
   "metadata": {},
   "outputs": [
    {
     "name": "stdout",
     "output_type": "stream",
     "text": [
      "Total number of labelled anomalies in dataset: 1\n",
      "Ranges of anomalies:  [[5401, 6736]]\n"
     ]
    }
   ],
   "source": [
    "data = pd.read_csv (r'./labeled_anomalies.csv')\n",
    "# Defining chan_id as index\n",
    "data.set_index('chan_id', inplace = True)\n",
    "\n",
    "# Data is loaded in as a string and must be converted to an array\n",
    "filedata = data.loc[filename, 'anomaly_sequences']\n",
    "if isinstance(filedata, str) == True:\n",
    "    test = filedata.split(',')\n",
    "else:\n",
    "    test = filedata[0].split(',')\n",
    "\n",
    "test[1].strip(\"[]\")\n",
    "\n",
    "counter = 0\n",
    "anomaly_ranges = []\n",
    "temp = []\n",
    "for n in range(0, len(test)):\n",
    "    temp.append(int(test[n].strip(' [] ')))\n",
    "    counter += 1\n",
    "    if counter == 2:\n",
    "        anomaly_ranges.append(temp)\n",
    "        temp = []\n",
    "        counter = 0\n",
    "\n",
    "print(\"Total number of labelled anomalies in dataset:\", len(anomaly_ranges))\n",
    "print(\"Ranges of anomalies: \", anomaly_ranges)"
   ]
  },
  {
   "cell_type": "markdown",
   "id": "598c23a5-a61c-422b-9a7a-f494ef85acef",
   "metadata": {},
   "source": [
    "### List Formation\n",
    "The train and test datasets are formed into lists to be used later"
   ]
  },
  {
   "cell_type": "code",
   "execution_count": 9,
   "id": "38ec3645-87b5-45cf-9334-742e3066e767",
   "metadata": {},
   "outputs": [],
   "source": [
    "ydata = []\n",
    "for x in range (0, len(data_train)):\n",
    "    ydata.append(data_train[x][0])\n",
    "    \n",
    "testdata = []\n",
    "for x in range (0, len(data_test)):\n",
    "    testdata.append(data_test[x][0])"
   ]
  },
  {
   "cell_type": "markdown",
   "id": "8751892d-574a-406a-80b6-8c78fa796077",
   "metadata": {},
   "source": [
    "### Rescaling\n",
    "The original data is shaped 1 to -1, from previous work, scaling the data from 1 to 0 yields better results. They are then converted to numpy arrays"
   ]
  },
  {
   "cell_type": "code",
   "execution_count": 10,
   "id": "182be172-63e4-4e56-9b3f-86ed4f2daf88",
   "metadata": {},
   "outputs": [],
   "source": [
    "X_train = np.array(ydata).reshape(-1, 1)\n",
    "scaler = MinMaxScaler(feature_range=(0, 1))\n",
    "X_train_norm = scaler.fit_transform(X_train)\n",
    "X_train_1D = X_train_norm.ravel()\n",
    "\n",
    "X_test = np.array(testdata).reshape(-1, 1)\n",
    "scaler = MinMaxScaler(feature_range=(0, 1))\n",
    "X_test_norm = scaler.fit_transform(X_test)\n",
    "X_test_1D = X_test_norm.ravel()"
   ]
  },
  {
   "cell_type": "code",
   "execution_count": 11,
   "id": "3de1c482-c9f2-4d8a-a290-fcaa124ddd2a",
   "metadata": {},
   "outputs": [],
   "source": [
    "points_train = np.array(X_train_1D)\n",
    "points_test = np.array(X_test_1D)"
   ]
  },
  {
   "cell_type": "markdown",
   "id": "540acedc-8ab2-4bbc-befc-364741c57a0a",
   "metadata": {},
   "source": [
    "### Anomaly Ranges set as list\n",
    "The anomaly ranges shown earlier are loaded as simple strings and need to be converted to referencable lists"
   ]
  },
  {
   "cell_type": "code",
   "execution_count": 12,
   "id": "686e8b16-14f8-4934-9346-17e70a9708b2",
   "metadata": {},
   "outputs": [
    {
     "name": "stdout",
     "output_type": "stream",
     "text": [
      "Anomaly Ranges: \n",
      "[5401, 6736]\n"
     ]
    }
   ],
   "source": [
    "test_list = []\n",
    "print('Anomaly Ranges: ')\n",
    "for n in range(0, len(anomaly_ranges)):\n",
    "    test_list.append(anomaly_ranges[n][1] - anomaly_ranges[n][0])\n",
    "    print(anomaly_ranges[n])\n",
    "    \n",
    "if (any(test_list) < window_size) == False:\n",
    "    window_size = min(test_list) * threshold\n",
    "    print('Resizing windows due to anomaly size\\n New window size: ', window_size)"
   ]
  },
  {
   "cell_type": "markdown",
   "id": "0e561740-13f2-42a9-96be-b7e0a40a001e",
   "metadata": {},
   "source": [
    "### X_train Definition\n",
    "X_train is now loaded as an array of datapoints for the length of the train dataset, with the window size number of points at each position. The array will look like (length_X_train, window_size)"
   ]
  },
  {
   "cell_type": "code",
   "execution_count": 13,
   "id": "1b70663a-6a4a-4ed5-a882-d27c6a817451",
   "metadata": {},
   "outputs": [],
   "source": [
    "X_train = []\n",
    "temp = []\n",
    "for y in range(0, len(ydata)-window_size, stride):\n",
    "    end = window_size + y\n",
    "    for x in range(y, end):\n",
    "        temp.append(ydata[x])\n",
    "    X_train.append(temp)\n",
    "    temp = []"
   ]
  },
  {
   "cell_type": "markdown",
   "id": "e6185a0d-3d61-4594-82a4-5d4828153621",
   "metadata": {},
   "source": [
    "### X_test & y_test Definition\n",
    "X_test & y_test is now loaded as an array of datapoints for the length of the train dataset, with the window size number of points at each position. The array will look like (length_X_test, window_size), (length_y_test, 1)"
   ]
  },
  {
   "cell_type": "code",
   "execution_count": 14,
   "id": "86e44afd-c756-4ae7-a897-1e9e6d3d8906",
   "metadata": {},
   "outputs": [],
   "source": [
    "X_test = []\n",
    "y_test = []\n",
    "limit = window_size*threshold\n",
    "temp = []\n",
    "\n",
    "for y in range(0, len(points_test)-window_size, stride):\n",
    "    end = window_size + y\n",
    "    for x in range(y, end):\n",
    "        temp.append(points_test[x])\n",
    "    \n",
    "    if len(anomaly_ranges) == 2:\n",
    "        if y in range(anomaly_ranges[0][0] - int(limit), anomaly_ranges[0][1] + int(limit)) or y in range(anomaly_ranges[1][0] - int(limit), anomaly_ranges[1][1] + int(limit)):\n",
    "            y_test.append(1)\n",
    "        else:\n",
    "            y_test.append(0)\n",
    "    if len(anomaly_ranges) == 3:\n",
    "        if y in range(anomaly_ranges[0][0] - int(limit), anomaly_ranges[0][1] + int(limit)) or y in range(anomaly_ranges[1][0] - int(limit), anomaly_ranges[1][1] + int(limit)) or y in range(anomaly_ranges[2][0] - int(limit), anomaly_ranges[2][1] + int(limit)):\n",
    "            y_test.append(1)\n",
    "        else:\n",
    "            y_test.append(0)\n",
    "    if len(anomaly_ranges) == 1:\n",
    "        if y in range(anomaly_ranges[0][0] - int(limit), anomaly_ranges[0][1] + int(limit)):\n",
    "            y_test.append(1)\n",
    "        else:\n",
    "            y_test.append(0)\n",
    "            \n",
    "    X_test.append(temp)\n",
    "    temp = []"
   ]
  },
  {
   "cell_type": "markdown",
   "id": "0e4a6e0a-b137-436a-ac19-2055ed500336",
   "metadata": {},
   "source": [
    "### Validataion Dataset Split\n",
    "A validation dataset is created from the X_train data before the training step. 20% of the data is taken out of the training dataset and both are relabeled"
   ]
  },
  {
   "cell_type": "code",
   "execution_count": 15,
   "id": "e9d52b85-98b7-4deb-b238-bdf884172531",
   "metadata": {},
   "outputs": [],
   "source": [
    "X_val = X_train[:int(len(X_train)/20)]\n",
    "X_train = X_train[int(len(X_train)/20):]"
   ]
  },
  {
   "cell_type": "markdown",
   "id": "b677490d-04e9-45c1-ac18-6d32ec21d1eb",
   "metadata": {},
   "source": [
    "### NP Array Conversion\n",
    "All datasets are now converted to numpy arays and the shapes of each are printed for confirmation"
   ]
  },
  {
   "cell_type": "code",
   "execution_count": 16,
   "id": "56903a0f-289e-42d7-ba4e-9b84a7fb9e14",
   "metadata": {},
   "outputs": [
    {
     "name": "stdout",
     "output_type": "stream",
     "text": [
      "X_train Shape:  (2570, 150)\n",
      "X_val Shape:  (135, 150)\n",
      "X_test Shape:  (8343, 150)\n",
      "y_test Shape:  (8343,)\n"
     ]
    }
   ],
   "source": [
    "X_train = np.array(X_train)\n",
    "X_val = np.array(X_val)\n",
    "X_test = np.array(X_test)\n",
    "y_test= np.array(y_test)\n",
    "\n",
    "print('X_train Shape: ', np.shape(X_train))\n",
    "print('X_val Shape: ', np.shape(X_val))\n",
    "print('X_test Shape: ', np.shape(X_test))\n",
    "print('y_test Shape: ', np.shape(y_test))"
   ]
  },
  {
   "cell_type": "markdown",
   "id": "d1783724-f414-4fe1-8b10-b7db4d47450d",
   "metadata": {},
   "source": [
    "## Model Specific Pre-Processing\n",
    "Automation of the preprocessing step based on model type"
   ]
  },
  {
   "cell_type": "code",
   "execution_count": 17,
   "id": "9fe402a0-30fe-492e-9eab-7bafc717fab9",
   "metadata": {},
   "outputs": [],
   "source": [
    "def temporalize(X, y, lookback):\n",
    "    output_X = []\n",
    "    output_y = []\n",
    "    for i in range(len(X)-lookback-1):\n",
    "        t = []\n",
    "        for j in range(1,lookback+1):\n",
    "            # Gather past records upto the lookback period\n",
    "            t.append(X[[(i+j+1)], :])\n",
    "        output_X.append(t)\n",
    "        output_y.append(y[i+lookback+1])\n",
    "    return output_X, output_y"
   ]
  },
  {
   "cell_type": "code",
   "execution_count": 18,
   "id": "97e3dca4-7a6c-43ba-8da1-b58100c5e4f3",
   "metadata": {},
   "outputs": [],
   "source": [
    "def split_sequence(sequence, n_steps):\n",
    "\tX, y = list(), list()\n",
    "\tfor i in range(len(sequence)):\n",
    "\t\t# find the end of this pattern\n",
    "\t\tend_ix = i + n_steps\n",
    "\t\t# check if we are beyond the sequence\n",
    "\t\tif end_ix > len(sequence)-1:\n",
    "\t\t\tbreak\n",
    "\t\t# gather input and output parts of the pattern\n",
    "\t\tseq_x, seq_y = sequence[i:end_ix], sequence[end_ix]\n",
    "\t\tX.append(seq_x)\n",
    "\t\ty.append(seq_y)\n",
    "\treturn np.array(X), np.array(y)"
   ]
  },
  {
   "cell_type": "code",
   "execution_count": 19,
   "id": "9f2f9720-99c6-4aa1-9b62-974d52c8b113",
   "metadata": {},
   "outputs": [],
   "source": [
    "if model_name == 'CNNAE':\n",
    "    features = 1  # Number of features (assuming one feature per time step)\n",
    "    \n",
    "    samples = X_train.shape[0]  # Number of samples\n",
    "    time_steps = X_train.shape[1]  # Number of time steps\n",
    "    X_train = X_train.reshape(samples, time_steps, features)\n",
    "\n",
    "    samples = X_test.shape[0]  # Number of samples\n",
    "    time_steps = X_test.shape[1]  # Number of time steps\n",
    "    X_test = X_test.reshape(samples, time_steps, features)\n",
    "    \n",
    "    samples = X_val.shape[0]  # Number of samples\n",
    "    time_steps = X_val.shape[1]  # Number of time steps\n",
    "    X_val = X_val.reshape(samples, time_steps, features)\n",
    "    \n",
    "if model_name == 'HybridAE' or model_name == 'LSTMAE':\n",
    "    timesteps = window_size\n",
    "    n_features = window_size\n",
    "\n",
    "    X, y = temporalize(X = X_train, y = np.zeros(len(X_train)), lookback = timesteps)\n",
    "\n",
    "    X = np.array(X)\n",
    "    X_train = X.reshape(X.shape[0], timesteps, n_features)\n",
    "    \n",
    "    X_t, y_t = temporalize(X = X_test, y = np.zeros(len(X_test)), lookback = timesteps)\n",
    "\n",
    "    X_t = np.array(X_t)\n",
    "    X_test = X_t.reshape(X_t.shape[0], timesteps, n_features)\n",
    "    \n",
    "    X_v, y_v = temporalize(X = X_val, y = np.zeros(len(X_val)), lookback = timesteps)\n",
    "\n",
    "    X_v = np.array(X_v)\n",
    "    X_val = X_v.reshape(X_v.shape[0], timesteps, n_features)"
   ]
  },
  {
   "cell_type": "code",
   "execution_count": 20,
   "id": "ed980a31-2911-490d-b31a-e0201fbf81fd",
   "metadata": {},
   "outputs": [
    {
     "name": "stdout",
     "output_type": "stream",
     "text": [
      "X_train Shape:  (2570, 150)\n",
      "X_val Shape:  (135, 150)\n",
      "X_test Shape:  (8343, 150)\n",
      "y_test Shape:  (8343,)\n"
     ]
    }
   ],
   "source": [
    "X_train = np.array(X_train)\n",
    "X_val = np.array(X_val)\n",
    "X_test = np.array(X_test)\n",
    "y_test= np.array(y_test)\n",
    "\n",
    "print('X_train Shape: ', np.shape(X_train))\n",
    "print('X_val Shape: ', np.shape(X_val))\n",
    "print('X_test Shape: ', np.shape(X_test))\n",
    "print('y_test Shape: ', np.shape(y_test))"
   ]
  },
  {
   "cell_type": "markdown",
   "id": "16349353-57a0-4a3f-8cbe-ab08ae4affe8",
   "metadata": {},
   "source": [
    "# Post Processing Script\n",
    "Loads saved model file from the definitions at the beginning and prints a model summary to confirm model is loaded correctly"
   ]
  },
  {
   "cell_type": "code",
   "execution_count": 21,
   "id": "859df43c-580f-4fcc-a4cf-ca9bac62bd3e",
   "metadata": {},
   "outputs": [
    {
     "data": {
      "text/plain": [
       "'BasicAE_P-3_150.tflite'"
      ]
     },
     "execution_count": 21,
     "metadata": {},
     "output_type": "execute_result"
    }
   ],
   "source": [
    "fullname = model_name + '_' + filename + \"_\" + str(window_size) + '.tflite'\n",
    "fullname"
   ]
  },
  {
   "cell_type": "code",
   "execution_count": 22,
   "id": "c2cd748b-3962-41f3-8749-9e17f0e9acbf",
   "metadata": {},
   "outputs": [],
   "source": [
    "import numpy as np\n",
    "import tensorflow as tf\n",
    "\n",
    "# Load the TFLite model and allocate tensors\n",
    "interpreter = tf.lite.Interpreter(model_path=fullname)\n",
    "interpreter.allocate_tensors()\n",
    "\n",
    "# Get input and output tensor information\n",
    "input_details = interpreter.get_input_details()\n",
    "output_details = interpreter.get_output_details()"
   ]
  },
  {
   "cell_type": "markdown",
   "id": "a499b147-7068-48ec-93cc-277a26d1a449",
   "metadata": {},
   "source": [
    "### Training Dataset Reconstruction Error\n",
    "Calculates training dataset reconstruction error and saves as recon_err_train"
   ]
  },
  {
   "cell_type": "code",
   "execution_count": 34,
   "id": "a252c2ba-ac68-4c27-9ba6-8efd3ff0b2db",
   "metadata": {},
   "outputs": [],
   "source": [
    "X_recon_train = []\n",
    "for test_example in X_train:\n",
    "    # Ensure the data is in the correct dtype expected by the model\n",
    "    test_example = np.expand_dims(test_example, axis=0).astype(np.float32)\n",
    "    \n",
    "    # Set the model input tensor to the preprocessed test_example\n",
    "    interpreter.set_tensor(input_details[0]['index'], test_example)\n",
    "    \n",
    "    # Run inference\n",
    "    interpreter.invoke()\n",
    "    \n",
    "    # Extract the output tensor and remove the unnecessary dimension\n",
    "    output_data = interpreter.get_tensor(output_details[0]['index'])\n",
    "    output_data_squeezed = np.squeeze(output_data, axis=0)  # Removes the extra dimension\n",
    "    \n",
    "    # Append the result to the predictions list\n",
    "    X_recon_train.append(output_data_squeezed)\n",
    "\n",
    "# Convert predictions list to a numpy array\n",
    "X_recon_train = np.array(X_recon_train)\n",
    "recon_err_train = np.mean(np.power(X_train - X_recon_train, 2), axis=1)"
   ]
  },
  {
   "cell_type": "markdown",
   "id": "8c3ac8a4-8dde-4b3a-9914-2728ce870ee6",
   "metadata": {},
   "source": [
    "### Test Dataset Reconstruction Error\n",
    "Calculates Test dataset reconstruction error and saves as recon_err_test"
   ]
  },
  {
   "cell_type": "code",
   "execution_count": 36,
   "id": "c79699e8-d906-47d1-a095-14a13cae249a",
   "metadata": {},
   "outputs": [],
   "source": [
    "X_recon = []\n",
    "for test_example in X_test:\n",
    "    # Ensure the data is in the correct dtype expected by the model\n",
    "    test_example = np.expand_dims(test_example, axis=0).astype(np.float32)\n",
    "    \n",
    "    # Set the model input tensor to the preprocessed test_example\n",
    "    interpreter.set_tensor(input_details[0]['index'], test_example)\n",
    "    \n",
    "    # Run inference\n",
    "    interpreter.invoke()\n",
    "    \n",
    "    # Extract the output tensor and remove the unnecessary dimension\n",
    "    output_data = interpreter.get_tensor(output_details[0]['index'])\n",
    "    output_data_squeezed = np.squeeze(output_data, axis=0)  # Removes the extra dimension\n",
    "    \n",
    "    # Append the result to the predictions list\n",
    "    X_recon.append(output_data_squeezed)\n",
    "\n",
    "# Convert predictions list to a numpy array\n",
    "X_recon = np.array(X_recon)\n",
    "recon_err_test = np.mean(np.power(X_test - X_recon, 2), axis=1)"
   ]
  },
  {
   "cell_type": "markdown",
   "id": "1080a827-937f-4ac4-9b61-80cc9585d77c",
   "metadata": {},
   "source": [
    "### Validation Dataset Reconstruction Error\n",
    "Calculates validation dataset reconstruction error and saves as recon_err_val"
   ]
  },
  {
   "cell_type": "code",
   "execution_count": 37,
   "id": "7e8f6517-c712-4c21-a896-05ac84d423bb",
   "metadata": {},
   "outputs": [],
   "source": [
    "X_recon_val = []\n",
    "for test_example in X_val:\n",
    "    # Ensure the data is in the correct dtype expected by the model\n",
    "    test_example = np.expand_dims(test_example, axis=0).astype(np.float32)\n",
    "    \n",
    "    # Set the model input tensor to the preprocessed test_example\n",
    "    interpreter.set_tensor(input_details[0]['index'], test_example)\n",
    "    \n",
    "    # Run inference\n",
    "    interpreter.invoke()\n",
    "    \n",
    "    # Extract the output tensor and remove the unnecessary dimension\n",
    "    output_data = interpreter.get_tensor(output_details[0]['index'])\n",
    "    output_data_squeezed = np.squeeze(output_data, axis=0)  # Removes the extra dimension\n",
    "    \n",
    "    # Append the result to the predictions list\n",
    "    X_recon_val.append(output_data_squeezed)\n",
    "\n",
    "# Convert predictions list to a numpy array\n",
    "X_recon_val = np.array(X_recon_val)\n",
    "recon_err_val = np.mean(np.power(X_val - X_recon_val, 2), axis=1)"
   ]
  },
  {
   "cell_type": "markdown",
   "id": "2a81f5ae-1821-4336-9e3c-e3e285659611",
   "metadata": {},
   "source": [
    "## Model Specific Post-processing"
   ]
  },
  {
   "cell_type": "code",
   "execution_count": 38,
   "id": "19f508e2-5d2d-4fd3-a9dd-4012ad17e475",
   "metadata": {},
   "outputs": [],
   "source": [
    "if model_name == 'HybridAE' or model_name == 'LSTMAE':\n",
    "    result = []\n",
    "    for e in recon_err_test:\n",
    "        result.append(np.mean(e))\n",
    "    recon_err_test = result\n",
    "    zero = np.zeros(int((np.shape(X_train[1])[0]))+1)\n",
    "    recon_err_test = np.concatenate((zero, recon_err_test))"
   ]
  },
  {
   "cell_type": "markdown",
   "id": "dae8a9dd-cbed-44be-b93f-16766b02d73f",
   "metadata": {},
   "source": [
    "### Reconstruction Error Threshold\n",
    "Calculates the reconstruction error threshold to apply to test set predictions. If the value of the reconstruction error exceed the threshold, it is considered anomalous."
   ]
  },
  {
   "cell_type": "code",
   "execution_count": 39,
   "id": "685b38cc-7c91-43b9-8a06-737fb32d17b7",
   "metadata": {},
   "outputs": [],
   "source": [
    "percentile = np.percentile(recon_err_test, 99.99)\n",
    "thresholds = np.linspace(np.min(recon_err_test), percentile, 100)"
   ]
  },
  {
   "cell_type": "code",
   "execution_count": 40,
   "id": "2963f876-edb1-44da-968a-0136e639a748",
   "metadata": {},
   "outputs": [],
   "source": [
    "f1s = []\n",
    "for threshold in thresholds:\n",
    "    y_pred = (recon_err_test > threshold).astype(int)\n",
    "    f1s.append(f1_score(y_test, y_pred))\n",
    "\n",
    "max_f1_index = np.argmax(f1s)\n",
    "recon_threshold = thresholds[max_f1_index]"
   ]
  },
  {
   "cell_type": "markdown",
   "id": "e19b7ee8-590e-4e33-ba7c-0fd1b45faff6",
   "metadata": {},
   "source": [
    "### y_pred declaration\n",
    "Declares y_pred based on where the value exceeds the threshold"
   ]
  },
  {
   "cell_type": "code",
   "execution_count": 41,
   "id": "491ef395-18df-4470-a893-a1afc94fcddf",
   "metadata": {},
   "outputs": [],
   "source": [
    "y_pred = []\n",
    "for x in recon_err_test:\n",
    "    y_hat = [1 if x > recon_threshold else 0]\n",
    "    y_pred.append(y_hat)"
   ]
  },
  {
   "cell_type": "code",
   "execution_count": 42,
   "id": "c343d1c6-e81e-4181-802d-84d2ffc6bcbb",
   "metadata": {},
   "outputs": [
    {
     "data": {
      "image/png": "[encoded data removed]",
      "text/plain": [
       "<Figure size 576x360 with 1 Axes>"
      ]
     },
     "metadata": {
      "needs_background": "light"
     },
     "output_type": "display_data"
    }
   ],
   "source": [
    "fpr, tpr, _ = roc_curve(y_test, recon_err_test)\n",
    "roc_auc = auc(fpr, tpr)\n",
    "\n",
    "plt.figure(figsize=(8, 5))\n",
    "lw = 1\n",
    "plt.plot(fpr, tpr,\n",
    "         lw=lw, label='CNN Autoencoder (area = %0.2f)' % roc_auc)\n",
    "\n",
    "plt.plot([0, 1], [0, 1], color='navy', lw=lw, linestyle='--')\n",
    "plt.xlim([0.0, 1.0])\n",
    "plt.ylim([0.0, 1.0])\n",
    "plt.xlabel('False Positive Rate')\n",
    "plt.ylabel('True Positive Rate')\n",
    "plt.title('ROC Analysis')\n",
    "plt.legend(loc=\"lower right\")\n",
    "plt.show()"
   ]
  },
  {
   "cell_type": "markdown",
   "id": "46ab7899-7c2b-4a65-9c78-a66e742ca31c",
   "metadata": {},
   "source": [
    "### Confusion Matrix\n",
    "\n",
    "This cell gives the total results of the model after the threshold has been applied"
   ]
  },
  {
   "cell_type": "code",
   "execution_count": 43,
   "id": "253f3ea1-eceb-403e-91d8-26a73051994b",
   "metadata": {},
   "outputs": [
    {
     "data": {
      "image/png": "[encoded data removed]",
      "text/plain": [
       "<Figure size 576x576 with 1 Axes>"
      ]
     },
     "metadata": {
      "needs_background": "light"
     },
     "output_type": "display_data"
    },
    {
     "name": "stdout",
     "output_type": "stream",
     "text": [
      "ROC Area: 0.972\n",
      "F1 Score: 0.884\n",
      "Accuracy: 0.960\n",
      "Precision: 0.968\n",
      "Recall: 0.813\n"
     ]
    }
   ],
   "source": [
    "conf_matrix = confusion_matrix(y_true=y_test, y_pred=y_pred)\n",
    "\n",
    "\n",
    "fig, ax = plt.subplots(figsize=(8, 8))\n",
    "ax.matshow(conf_matrix, cmap=plt.cm.Oranges, alpha=0.3)\n",
    "for i in range(conf_matrix.shape[0]):\n",
    "    for j in range(conf_matrix.shape[1]):\n",
    "        ax.text(x=j, y=i,s=conf_matrix[i, j], va='center', ha='center', size='xx-large')\n",
    "\n",
    "plt.xlabel('Predictions', fontsize=18)\n",
    "plt.ylabel('Actuals', fontsize=18)\n",
    "plt.title('Confusion Matrix', fontsize=18)\n",
    "plt.show()\n",
    "\n",
    "print('ROC Area: %.3f' % roc_auc_score(y_test, recon_err_test))\n",
    "print('F1 Score: %.3f' % f1_score(y_test, y_pred))\n",
    "print('Accuracy: %.3f' % accuracy_score(y_test, y_pred))\n",
    "print('Precision: %.3f' % precision_score(y_test, y_pred))\n",
    "print('Recall: %.3f' % recall_score(y_test, y_pred))"
   ]
  },
  {
   "cell_type": "code",
   "execution_count": null,
   "id": "a17c8809-8c9a-45a0-acbb-451c573ba585",
   "metadata": {},
   "outputs": [],
   "source": []
  }
 ],
 "metadata": {
  "kernelspec": {
   "display_name": "Python 3 (ipykernel)",
   "language": "python",
   "name": "python3"
  },
  "language_info": {
   "codemirror_mode": {
    "name": "ipython",
    "version": 3
   },
   "file_extension": ".py",
   "mimetype": "text/x-python",
   "name": "python",
   "nbconvert_exporter": "python",
   "pygments_lexer": "ipython3",
   "version": "3.7.10"
  }
 },
 "nbformat": 4,
 "nbformat_minor": 5
}
